{
 "cells": [
  {
   "cell_type": "code",
   "execution_count": 1,
   "metadata": {},
   "outputs": [],
   "source": [
    "import numpy as np\n",
    "import pandas as pd\n",
    "from datetime import datetime\n",
    "import pickle"
   ]
  },
  {
   "cell_type": "code",
   "execution_count": 2,
   "metadata": {},
   "outputs": [
    {
     "name": "stdout",
     "output_type": "stream",
     "text": [
      "/Users/alexcappadona/Desktop/JARVIS/aaa/Asset_and_Accrual_Detail_20220304151810_204982643.xls\n"
     ]
    }
   ],
   "source": [
    "path = '/Users/alexcappadona/Desktop/JARVIS/aaa/'\n",
    "fname = 'Asset_and_Accrual_Detail_20220304151810_204982643.xls'\n",
    "loc = path+fname"
   ]
  },
  {
   "cell_type": "code",
   "execution_count": 3,
   "metadata": {},
   "outputs": [],
   "source": [
    "ass = pd.read_excel(loc)"
   ]
  },
  {
   "cell_type": "markdown",
   "metadata": {},
   "source": [
    "## get_assets"
   ]
  },
  {
   "cell_type": "code",
   "execution_count": 5,
   "metadata": {},
   "outputs": [],
   "source": [
    "# takes DataFrame of portfolio data\n",
    "# creating new DataFrame with security, base cost, and market value for all assets\n",
    "def get_assets(ass):\n",
    "    asset_name = pd.DataFrame(ass['Security Description 1'])\n",
    "    base_price = pd.DataFrame(ass['Base Cost'])\n",
    "    market_price = pd.DataFrame(ass['Base Market Value'])\n",
    "    frames = [asset_name,base_price,market_price]\n",
    "    result = pd.concat(frames, axis=1)\n",
    "    return result"
   ]
  },
  {
   "cell_type": "markdown",
   "metadata": {},
   "source": [
    "## drop_cash"
   ]
  },
  {
   "cell_type": "code",
   "execution_count": 6,
   "metadata": {},
   "outputs": [],
   "source": [
    "# takes a dataframe of portfolio assets\n",
    "# returns a dataframe without cash and receivable for investments sold\n",
    "def drop_cash(ass_frame):\n",
    "    sec_frame = ass_frame.drop([0,1])\n",
    "    return sec_frame"
   ]
  },
  {
   "cell_type": "markdown",
   "metadata": {},
   "source": [
    "## port_aum"
   ]
  },
  {
   "cell_type": "code",
   "execution_count": 7,
   "metadata": {},
   "outputs": [],
   "source": [
    "# takes dataframe of portfolio assets\n",
    "# returns DataFrame with the current date and assets under management\n",
    "def port_aum(ass_frame):\n",
    "    base_mv = ass_frame['Base Market Value'].tolist()\n",
    "    aum = sum(base_mv)\n",
    "    \n",
    "    today = datetime.today().strftime('%Y-%m-%d')\n",
    "    entry = {\"AUM\": pd.Series(aum, index=[today])}\n",
    "    aum = pd.DataFrame(entry)\n",
    "    \n",
    "    return aum"
   ]
  },
  {
   "cell_type": "code",
   "execution_count": 40,
   "metadata": {},
   "outputs": [
    {
     "data": {
      "text/html": [
       "<div>\n",
       "<style scoped>\n",
       "    .dataframe tbody tr th:only-of-type {\n",
       "        vertical-align: middle;\n",
       "    }\n",
       "\n",
       "    .dataframe tbody tr th {\n",
       "        vertical-align: top;\n",
       "    }\n",
       "\n",
       "    .dataframe thead th {\n",
       "        text-align: right;\n",
       "    }\n",
       "</style>\n",
       "<table border=\"1\" class=\"dataframe\">\n",
       "  <thead>\n",
       "    <tr style=\"text-align: right;\">\n",
       "      <th></th>\n",
       "      <th>AUM</th>\n",
       "    </tr>\n",
       "  </thead>\n",
       "  <tbody>\n",
       "    <tr>\n",
       "      <th>2022-03-04</th>\n",
       "      <td>540000.69</td>\n",
       "    </tr>\n",
       "  </tbody>\n",
       "</table>\n",
       "</div>"
      ],
      "text/plain": [
       "                  AUM\n",
       "2022-03-04  540000.69"
      ]
     },
     "execution_count": 40,
     "metadata": {},
     "output_type": "execute_result"
    }
   ],
   "source": [
    "# made up entry for testing\n",
    "fake_entry = pd.DataFrame({\"AUM\": pd.Series(540000.69, index=['2022-03-04'])})\n",
    "fake_entry"
   ]
  },
  {
   "cell_type": "markdown",
   "metadata": {},
   "source": [
    "## record_aum"
   ]
  },
  {
   "cell_type": "code",
   "execution_count": 8,
   "metadata": {},
   "outputs": [],
   "source": [
    "# takes the port_aum data frame\n",
    "# records it in the historic ledger of aum via pickle\n",
    "\n",
    "def record_aum(new_entry):\n",
    "    rfile = open(\"aum.pickle\",\"rb\")\n",
    "    aum_data = pickle.load(rfile)\n",
    "    \n",
    "    aum_record = pd.concat([aum_data,new_entry])\n",
    "    wfile = open(\"aum.pickle\",\"wb\")\n",
    "    pickle.dump(aum_record,wfile)\n",
    "    \n",
    "    return aum_record"
   ]
  },
  {
   "cell_type": "markdown",
   "metadata": {},
   "source": [
    "## get_aum_record"
   ]
  },
  {
   "cell_type": "code",
   "execution_count": 13,
   "metadata": {},
   "outputs": [],
   "source": [
    "# takes no arugments\n",
    "# checks what is saved in aum.pickle\n",
    "\n",
    "def get_aum_record():\n",
    "    rfile = open(\"aum.pickle\",\"rb\")\n",
    "    aum_data = pickle.load(rfile)\n",
    "    return aum_data"
   ]
  },
  {
   "cell_type": "code",
   "execution_count": 14,
   "metadata": {
    "scrolled": true
   },
   "outputs": [
    {
     "data": {
      "text/html": [
       "<div>\n",
       "<style scoped>\n",
       "    .dataframe tbody tr th:only-of-type {\n",
       "        vertical-align: middle;\n",
       "    }\n",
       "\n",
       "    .dataframe tbody tr th {\n",
       "        vertical-align: top;\n",
       "    }\n",
       "\n",
       "    .dataframe thead th {\n",
       "        text-align: right;\n",
       "    }\n",
       "</style>\n",
       "<table border=\"1\" class=\"dataframe\">\n",
       "  <thead>\n",
       "    <tr style=\"text-align: right;\">\n",
       "      <th></th>\n",
       "      <th>AUM</th>\n",
       "    </tr>\n",
       "  </thead>\n",
       "  <tbody>\n",
       "    <tr>\n",
       "      <th>2022-03-03</th>\n",
       "      <td>538082.19</td>\n",
       "    </tr>\n",
       "    <tr>\n",
       "      <th>2022-03-04</th>\n",
       "      <td>536282.05</td>\n",
       "    </tr>\n",
       "  </tbody>\n",
       "</table>\n",
       "</div>"
      ],
      "text/plain": [
       "                  AUM\n",
       "2022-03-03  538082.19\n",
       "2022-03-04  536282.05"
      ]
     },
     "execution_count": 14,
     "metadata": {},
     "output_type": "execute_result"
    }
   ],
   "source": [
    "get_aum_record()"
   ]
  },
  {
   "cell_type": "markdown",
   "metadata": {},
   "source": [
    "## date_drop"
   ]
  },
  {
   "cell_type": "code",
   "execution_count": 10,
   "metadata": {},
   "outputs": [],
   "source": [
    "# takes a date, file\n",
    "# drops the date in file\n",
    "def drop_date(date,file):\n",
    "    rfile = open(file,\"rb\")\n",
    "    aum_data = pickle.load(rfile)\n",
    "    \n",
    "    new_aum_data = aum_data.drop(labels=[date])\n",
    "    \n",
    "    wfile = open(\"aum.pickle\",\"wb\")\n",
    "    pickle.dump(new_aum_data,wfile)\n",
    "    return"
   ]
  },
  {
   "cell_type": "code",
   "execution_count": 28,
   "metadata": {},
   "outputs": [
    {
     "data": {
      "text/html": [
       "<div>\n",
       "<style scoped>\n",
       "    .dataframe tbody tr th:only-of-type {\n",
       "        vertical-align: middle;\n",
       "    }\n",
       "\n",
       "    .dataframe tbody tr th {\n",
       "        vertical-align: top;\n",
       "    }\n",
       "\n",
       "    .dataframe thead th {\n",
       "        text-align: right;\n",
       "    }\n",
       "</style>\n",
       "<table border=\"1\" class=\"dataframe\">\n",
       "  <thead>\n",
       "    <tr style=\"text-align: right;\">\n",
       "      <th></th>\n",
       "      <th>AUM</th>\n",
       "    </tr>\n",
       "  </thead>\n",
       "  <tbody>\n",
       "    <tr>\n",
       "      <th>2022-03-03</th>\n",
       "      <td>538082.19</td>\n",
       "    </tr>\n",
       "    <tr>\n",
       "      <th>2022-03-04</th>\n",
       "      <td>536282.05</td>\n",
       "    </tr>\n",
       "  </tbody>\n",
       "</table>\n",
       "</div>"
      ],
      "text/plain": [
       "                  AUM\n",
       "2022-03-03  538082.19\n",
       "2022-03-04  536282.05"
      ]
     },
     "execution_count": 28,
     "metadata": {},
     "output_type": "execute_result"
    }
   ],
   "source": [
    "aum_frame"
   ]
  },
  {
   "cell_type": "markdown",
   "metadata": {},
   "source": [
    "## aum_delta"
   ]
  },
  {
   "cell_type": "code",
   "execution_count": 68,
   "metadata": {},
   "outputs": [],
   "source": [
    "# takes aum_frame\n",
    "# returns one day price change in aum\n",
    "\n",
    "def aum_delta(aum_frame):\n",
    "    aum_lst = aum_frame['AUM'].tolist()\n",
    "    periods = len(aum_lst)\n",
    "    current_pd = int(periods - 1)\n",
    "    last_pd = int(periods - 2)\n",
    "    delta = round((aum_lst[current_pd] - aum_lst[last_pd]),2)\n",
    "    return delta"
   ]
  },
  {
   "cell_type": "markdown",
   "metadata": {},
   "source": [
    "## aum_delta_per"
   ]
  },
  {
   "cell_type": "code",
   "execution_count": 86,
   "metadata": {},
   "outputs": [],
   "source": [
    "# takes aum_frame\n",
    "# returns one day percent change in aum\n",
    "def aum_delta_per(aum_frame):\n",
    "    aum_lst = aum_frame['AUM'].tolist()\n",
    "    periods = len(aum_lst)\n",
    "    current_pd = int(periods - 1)\n",
    "    last_pd = int(periods - 2)\n",
    "    delta_per = (aum_lst[current_pd]/aum_lst[last_pd])-1\n",
    "    return delta_per"
   ]
  }
 ],
 "metadata": {
  "kernelspec": {
   "display_name": "Python 3",
   "language": "python",
   "name": "python3"
  },
  "language_info": {
   "codemirror_mode": {
    "name": "ipython",
    "version": 3
   },
   "file_extension": ".py",
   "mimetype": "text/x-python",
   "name": "python",
   "nbconvert_exporter": "python",
   "pygments_lexer": "ipython3",
   "version": "3.7.4"
  }
 },
 "nbformat": 4,
 "nbformat_minor": 2
}
