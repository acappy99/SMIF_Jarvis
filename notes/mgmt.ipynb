{
 "cells": [
  {
   "cell_type": "code",
   "execution_count": 1,
   "metadata": {},
   "outputs": [],
   "source": [
    "import numpy as np\n",
    "import pandas as pd\n",
    "from datetime import datetime\n",
    "import pickle"
   ]
  },
  {
   "cell_type": "code",
   "execution_count": 2,
   "metadata": {},
   "outputs": [
    {
     "name": "stdout",
     "output_type": "stream",
     "text": [
      "/Users/alexcappadona/Desktop/JARVIS/aaa/Asset_and_Accrual_Detail_20220304151810_204982643.xls\n"
     ]
    }
   ],
   "source": [
    "path = '/Users/alexcappadona/Desktop/JARVIS/aaa/'\n",
    "fname = 'Asset_and_Accrual_Detail_20220304151810_204982643.xls'\n",
    "loc = path+fname\n",
    "print(loc)"
   ]
  },
  {
   "cell_type": "code",
   "execution_count": 3,
   "metadata": {},
   "outputs": [],
   "source": [
    "ass = pd.read_excel(loc)"
   ]
  },
  {
   "cell_type": "code",
   "execution_count": 4,
   "metadata": {
    "scrolled": false
   },
   "outputs": [
    {
     "data": {
      "text/html": [
       "<div>\n",
       "<style scoped>\n",
       "    .dataframe tbody tr th:only-of-type {\n",
       "        vertical-align: middle;\n",
       "    }\n",
       "\n",
       "    .dataframe tbody tr th {\n",
       "        vertical-align: top;\n",
       "    }\n",
       "\n",
       "    .dataframe thead th {\n",
       "        text-align: right;\n",
       "    }\n",
       "</style>\n",
       "<table border=\"1\" class=\"dataframe\">\n",
       "  <thead>\n",
       "    <tr style=\"text-align: right;\">\n",
       "      <th></th>\n",
       "      <th>Reporting Account Number</th>\n",
       "      <th>Reporting Account Name</th>\n",
       "      <th>Source Account Number</th>\n",
       "      <th>Source Account Name</th>\n",
       "      <th>As Of Date</th>\n",
       "      <th>Security Description 1</th>\n",
       "      <th>Security Description 2</th>\n",
       "      <th>Asset Code</th>\n",
       "      <th>Asset Category</th>\n",
       "      <th>Sector Name</th>\n",
       "      <th>...</th>\n",
       "      <th>Underlying Security QUICK</th>\n",
       "      <th>Underlying Security Loan ID</th>\n",
       "      <th>Underlying Security MANAGER</th>\n",
       "      <th>Accounting Status</th>\n",
       "      <th>Primary GSP Account</th>\n",
       "      <th>Extended GSP Account Number</th>\n",
       "      <th>Option Type</th>\n",
       "      <th>Market Type</th>\n",
       "      <th>Fair Value Hierarchy Level</th>\n",
       "      <th>Fair Value Hierarchy Override</th>\n",
       "    </tr>\n",
       "  </thead>\n",
       "  <tbody>\n",
       "    <tr>\n",
       "      <th>0</th>\n",
       "      <td>WV9F10000002</td>\n",
       "      <td>WVU SMIF</td>\n",
       "      <td>WV9F10000002</td>\n",
       "      <td>WVU SMIF</td>\n",
       "      <td>2022-03-03</td>\n",
       "      <td>AMN HEALTHCARE SERVICES INC</td>\n",
       "      <td>NaN</td>\n",
       "      <td>E039</td>\n",
       "      <td>EQUITY</td>\n",
       "      <td>COMMERCIAL SERVICES</td>\n",
       "      <td>...</td>\n",
       "      <td>NaN</td>\n",
       "      <td>NaN</td>\n",
       "      <td>NaN</td>\n",
       "      <td>PRELIMINARY</td>\n",
       "      <td>652280</td>\n",
       "      <td>652280</td>\n",
       "      <td>NaN</td>\n",
       "      <td>NaN</td>\n",
       "      <td>1.0</td>\n",
       "      <td>NO</td>\n",
       "    </tr>\n",
       "    <tr>\n",
       "      <th>1</th>\n",
       "      <td>WV9F10000002</td>\n",
       "      <td>WVU SMIF</td>\n",
       "      <td>WV9F10000002</td>\n",
       "      <td>WVU SMIF</td>\n",
       "      <td>2022-03-03</td>\n",
       "      <td>CASH</td>\n",
       "      <td>NaN</td>\n",
       "      <td>NaN</td>\n",
       "      <td>CASH &amp; CASH EQUIVALENTS</td>\n",
       "      <td>CASH</td>\n",
       "      <td>...</td>\n",
       "      <td>NaN</td>\n",
       "      <td>NaN</td>\n",
       "      <td>NaN</td>\n",
       "      <td>PRELIMINARY</td>\n",
       "      <td>652280</td>\n",
       "      <td>652280</td>\n",
       "      <td>NaN</td>\n",
       "      <td>NaN</td>\n",
       "      <td>NaN</td>\n",
       "      <td>NaN</td>\n",
       "    </tr>\n",
       "    <tr>\n",
       "      <th>2</th>\n",
       "      <td>WV9F10000002</td>\n",
       "      <td>WVU SMIF</td>\n",
       "      <td>WV9F10000002</td>\n",
       "      <td>WVU SMIF</td>\n",
       "      <td>2022-03-03</td>\n",
       "      <td>AMAZON.COM INC</td>\n",
       "      <td>NaN</td>\n",
       "      <td>E079</td>\n",
       "      <td>EQUITY</td>\n",
       "      <td>INTERNET</td>\n",
       "      <td>...</td>\n",
       "      <td>NaN</td>\n",
       "      <td>NaN</td>\n",
       "      <td>NaN</td>\n",
       "      <td>PRELIMINARY</td>\n",
       "      <td>652280</td>\n",
       "      <td>652280</td>\n",
       "      <td>NaN</td>\n",
       "      <td>NaN</td>\n",
       "      <td>1.0</td>\n",
       "      <td>NO</td>\n",
       "    </tr>\n",
       "    <tr>\n",
       "      <th>3</th>\n",
       "      <td>WV9F10000002</td>\n",
       "      <td>WVU SMIF</td>\n",
       "      <td>WV9F10000002</td>\n",
       "      <td>WVU SMIF</td>\n",
       "      <td>2022-03-03</td>\n",
       "      <td>AMERICAN CAMPUS COMMUNITIES IN</td>\n",
       "      <td>NaN</td>\n",
       "      <td>E3</td>\n",
       "      <td>EQUITY</td>\n",
       "      <td>EQUITY REIT (REAL ESTATE INVESTMENT TRUST)</td>\n",
       "      <td>...</td>\n",
       "      <td>NaN</td>\n",
       "      <td>NaN</td>\n",
       "      <td>NaN</td>\n",
       "      <td>PRELIMINARY</td>\n",
       "      <td>652280</td>\n",
       "      <td>652280</td>\n",
       "      <td>NaN</td>\n",
       "      <td>NaN</td>\n",
       "      <td>1.0</td>\n",
       "      <td>NO</td>\n",
       "    </tr>\n",
       "    <tr>\n",
       "      <th>4</th>\n",
       "      <td>WV9F10000002</td>\n",
       "      <td>WVU SMIF</td>\n",
       "      <td>WV9F10000002</td>\n",
       "      <td>WVU SMIF</td>\n",
       "      <td>2022-03-03</td>\n",
       "      <td>APPLE INC</td>\n",
       "      <td>NaN</td>\n",
       "      <td>E091</td>\n",
       "      <td>EQUITY</td>\n",
       "      <td>COMPUTERS</td>\n",
       "      <td>...</td>\n",
       "      <td>NaN</td>\n",
       "      <td>NaN</td>\n",
       "      <td>NaN</td>\n",
       "      <td>PRELIMINARY</td>\n",
       "      <td>652280</td>\n",
       "      <td>652280</td>\n",
       "      <td>NaN</td>\n",
       "      <td>NaN</td>\n",
       "      <td>1.0</td>\n",
       "      <td>NO</td>\n",
       "    </tr>\n",
       "  </tbody>\n",
       "</table>\n",
       "<p>5 rows × 82 columns</p>\n",
       "</div>"
      ],
      "text/plain": [
       "  Reporting Account Number Reporting Account Name Source Account Number  \\\n",
       "0             WV9F10000002               WVU SMIF          WV9F10000002   \n",
       "1             WV9F10000002               WVU SMIF          WV9F10000002   \n",
       "2             WV9F10000002               WVU SMIF          WV9F10000002   \n",
       "3             WV9F10000002               WVU SMIF          WV9F10000002   \n",
       "4             WV9F10000002               WVU SMIF          WV9F10000002   \n",
       "\n",
       "  Source Account Name As Of Date          Security Description 1  \\\n",
       "0            WVU SMIF 2022-03-03     AMN HEALTHCARE SERVICES INC   \n",
       "1            WVU SMIF 2022-03-03                            CASH   \n",
       "2            WVU SMIF 2022-03-03                  AMAZON.COM INC   \n",
       "3            WVU SMIF 2022-03-03  AMERICAN CAMPUS COMMUNITIES IN   \n",
       "4            WVU SMIF 2022-03-03                       APPLE INC   \n",
       "\n",
       "  Security Description 2 Asset Code           Asset Category  \\\n",
       "0                    NaN       E039                   EQUITY   \n",
       "1                    NaN        NaN  CASH & CASH EQUIVALENTS   \n",
       "2                    NaN       E079                   EQUITY   \n",
       "3                    NaN         E3                   EQUITY   \n",
       "4                    NaN       E091                   EQUITY   \n",
       "\n",
       "                                  Sector Name  ...  Underlying Security QUICK  \\\n",
       "0                         COMMERCIAL SERVICES  ...                        NaN   \n",
       "1                                        CASH  ...                        NaN   \n",
       "2                                    INTERNET  ...                        NaN   \n",
       "3  EQUITY REIT (REAL ESTATE INVESTMENT TRUST)  ...                        NaN   \n",
       "4                                   COMPUTERS  ...                        NaN   \n",
       "\n",
       "  Underlying Security Loan ID Underlying Security MANAGER Accounting Status  \\\n",
       "0                         NaN                         NaN       PRELIMINARY   \n",
       "1                         NaN                         NaN       PRELIMINARY   \n",
       "2                         NaN                         NaN       PRELIMINARY   \n",
       "3                         NaN                         NaN       PRELIMINARY   \n",
       "4                         NaN                         NaN       PRELIMINARY   \n",
       "\n",
       "  Primary GSP Account Extended GSP Account Number Option Type  Market Type  \\\n",
       "0              652280                      652280         NaN          NaN   \n",
       "1              652280                      652280         NaN          NaN   \n",
       "2              652280                      652280         NaN          NaN   \n",
       "3              652280                      652280         NaN          NaN   \n",
       "4              652280                      652280         NaN          NaN   \n",
       "\n",
       "   Fair Value Hierarchy Level  Fair Value Hierarchy Override  \n",
       "0                         1.0                             NO  \n",
       "1                         NaN                            NaN  \n",
       "2                         1.0                             NO  \n",
       "3                         1.0                             NO  \n",
       "4                         1.0                             NO  \n",
       "\n",
       "[5 rows x 82 columns]"
      ]
     },
     "execution_count": 4,
     "metadata": {},
     "output_type": "execute_result"
    }
   ],
   "source": [
    "ass.head()"
   ]
  },
  {
   "cell_type": "markdown",
   "metadata": {},
   "source": [
    "## get_assets"
   ]
  },
  {
   "cell_type": "code",
   "execution_count": 5,
   "metadata": {},
   "outputs": [],
   "source": [
    "# takes DataFrame of portfolio data\n",
    "# creating new DataFrame with security, base cost, and market value for all assets\n",
    "def get_assets(ass):\n",
    "    asset_name = pd.DataFrame(ass['Security Description 1'])\n",
    "    base_price = pd.DataFrame(ass['Base Cost'])\n",
    "    market_price = pd.DataFrame(ass['Base Market Value'])\n",
    "    frames = [asset_name,base_price,market_price]\n",
    "    result = pd.concat(frames, axis=1)\n",
    "    return result"
   ]
  },
  {
   "cell_type": "markdown",
   "metadata": {},
   "source": [
    "## drop_cash"
   ]
  },
  {
   "cell_type": "code",
   "execution_count": 6,
   "metadata": {},
   "outputs": [],
   "source": [
    "# takes a dataframe of portfolio assets\n",
    "# returns a dataframe without cash and receivable for investments sold\n",
    "def drop_cash(ass_frame):\n",
    "    sec_frame = ass_frame.drop([0,1])\n",
    "    return sec_frame"
   ]
  },
  {
   "cell_type": "markdown",
   "metadata": {},
   "source": [
    "## port_aum"
   ]
  },
  {
   "cell_type": "code",
   "execution_count": 7,
   "metadata": {},
   "outputs": [],
   "source": [
    "# takes dataframe of portfolio assets\n",
    "# returns DataFrame with the current date and assets under management\n",
    "def port_aum(ass_frame):\n",
    "    base_mv = ass_frame['Base Market Value'].tolist()\n",
    "    aum = sum(base_mv)\n",
    "    \n",
    "    today = datetime.today().strftime('%Y-%m-%d')\n",
    "    entry = {\"AUM\": pd.Series(aum, index=[today])}\n",
    "    aum = pd.DataFrame(entry)\n",
    "    \n",
    "    return aum"
   ]
  },
  {
   "cell_type": "code",
   "execution_count": 40,
   "metadata": {},
   "outputs": [
    {
     "data": {
      "text/html": [
       "<div>\n",
       "<style scoped>\n",
       "    .dataframe tbody tr th:only-of-type {\n",
       "        vertical-align: middle;\n",
       "    }\n",
       "\n",
       "    .dataframe tbody tr th {\n",
       "        vertical-align: top;\n",
       "    }\n",
       "\n",
       "    .dataframe thead th {\n",
       "        text-align: right;\n",
       "    }\n",
       "</style>\n",
       "<table border=\"1\" class=\"dataframe\">\n",
       "  <thead>\n",
       "    <tr style=\"text-align: right;\">\n",
       "      <th></th>\n",
       "      <th>AUM</th>\n",
       "    </tr>\n",
       "  </thead>\n",
       "  <tbody>\n",
       "    <tr>\n",
       "      <th>2022-03-04</th>\n",
       "      <td>540000.69</td>\n",
       "    </tr>\n",
       "  </tbody>\n",
       "</table>\n",
       "</div>"
      ],
      "text/plain": [
       "                  AUM\n",
       "2022-03-04  540000.69"
      ]
     },
     "execution_count": 40,
     "metadata": {},
     "output_type": "execute_result"
    }
   ],
   "source": [
    "# made up entry for testing\n",
    "fake_entry = pd.DataFrame({\"AUM\": pd.Series(540000.69, index=['2022-03-04'])})\n",
    "fake_entry"
   ]
  },
  {
   "cell_type": "markdown",
   "metadata": {},
   "source": [
    "## record_aum"
   ]
  },
  {
   "cell_type": "code",
   "execution_count": 8,
   "metadata": {},
   "outputs": [],
   "source": [
    "# takes the port_aum data frame\n",
    "# records it in the historic ledger of aum via pickle\n",
    "\n",
    "def record_aum(new_entry):\n",
    "    rfile = open(\"aum.pickle\",\"rb\")\n",
    "    aum_data = pickle.load(rfile)\n",
    "    \n",
    "    aum_record = pd.concat([aum_data,new_entry])\n",
    "    wfile = open(\"aum.pickle\",\"wb\")\n",
    "    pickle.dump(aum_record,wfile)\n",
    "    \n",
    "    return aum_record"
   ]
  },
  {
   "cell_type": "markdown",
   "metadata": {},
   "source": [
    "## get_aum_record"
   ]
  },
  {
   "cell_type": "code",
   "execution_count": 13,
   "metadata": {},
   "outputs": [],
   "source": [
    "# takes no arugments\n",
    "# checks what is saved in aum.pickle\n",
    "\n",
    "def get_aum_record():\n",
    "    rfile = open(\"aum.pickle\",\"rb\")\n",
    "    aum_data = pickle.load(rfile)\n",
    "    return aum_data"
   ]
  },
  {
   "cell_type": "code",
   "execution_count": 14,
   "metadata": {
    "scrolled": true
   },
   "outputs": [
    {
     "data": {
      "text/html": [
       "<div>\n",
       "<style scoped>\n",
       "    .dataframe tbody tr th:only-of-type {\n",
       "        vertical-align: middle;\n",
       "    }\n",
       "\n",
       "    .dataframe tbody tr th {\n",
       "        vertical-align: top;\n",
       "    }\n",
       "\n",
       "    .dataframe thead th {\n",
       "        text-align: right;\n",
       "    }\n",
       "</style>\n",
       "<table border=\"1\" class=\"dataframe\">\n",
       "  <thead>\n",
       "    <tr style=\"text-align: right;\">\n",
       "      <th></th>\n",
       "      <th>AUM</th>\n",
       "    </tr>\n",
       "  </thead>\n",
       "  <tbody>\n",
       "    <tr>\n",
       "      <th>2022-03-03</th>\n",
       "      <td>538082.19</td>\n",
       "    </tr>\n",
       "    <tr>\n",
       "      <th>2022-03-04</th>\n",
       "      <td>536282.05</td>\n",
       "    </tr>\n",
       "  </tbody>\n",
       "</table>\n",
       "</div>"
      ],
      "text/plain": [
       "                  AUM\n",
       "2022-03-03  538082.19\n",
       "2022-03-04  536282.05"
      ]
     },
     "execution_count": 14,
     "metadata": {},
     "output_type": "execute_result"
    }
   ],
   "source": [
    "get_aum_record()"
   ]
  },
  {
   "cell_type": "markdown",
   "metadata": {},
   "source": [
    "## date_drop"
   ]
  },
  {
   "cell_type": "code",
   "execution_count": 10,
   "metadata": {},
   "outputs": [],
   "source": [
    "# takes a date, file\n",
    "# drops the date in file\n",
    "def drop_date(date,file):\n",
    "    rfile = open(file,\"rb\")\n",
    "    aum_data = pickle.load(rfile)\n",
    "    \n",
    "    new_aum_data = aum_data.drop(labels=[date])\n",
    "    \n",
    "    wfile = open(\"aum.pickle\",\"wb\")\n",
    "    pickle.dump(new_aum_data,wfile)\n",
    "    return"
   ]
  },
  {
   "cell_type": "code",
   "execution_count": null,
   "metadata": {},
   "outputs": [],
   "source": []
  },
  {
   "cell_type": "code",
   "execution_count": null,
   "metadata": {},
   "outputs": [],
   "source": []
  },
  {
   "cell_type": "code",
   "execution_count": 27,
   "metadata": {},
   "outputs": [],
   "source": [
    "aum_frame = get_aum_record()"
   ]
  },
  {
   "cell_type": "code",
   "execution_count": 28,
   "metadata": {},
   "outputs": [
    {
     "data": {
      "text/html": [
       "<div>\n",
       "<style scoped>\n",
       "    .dataframe tbody tr th:only-of-type {\n",
       "        vertical-align: middle;\n",
       "    }\n",
       "\n",
       "    .dataframe tbody tr th {\n",
       "        vertical-align: top;\n",
       "    }\n",
       "\n",
       "    .dataframe thead th {\n",
       "        text-align: right;\n",
       "    }\n",
       "</style>\n",
       "<table border=\"1\" class=\"dataframe\">\n",
       "  <thead>\n",
       "    <tr style=\"text-align: right;\">\n",
       "      <th></th>\n",
       "      <th>AUM</th>\n",
       "    </tr>\n",
       "  </thead>\n",
       "  <tbody>\n",
       "    <tr>\n",
       "      <th>2022-03-03</th>\n",
       "      <td>538082.19</td>\n",
       "    </tr>\n",
       "    <tr>\n",
       "      <th>2022-03-04</th>\n",
       "      <td>536282.05</td>\n",
       "    </tr>\n",
       "  </tbody>\n",
       "</table>\n",
       "</div>"
      ],
      "text/plain": [
       "                  AUM\n",
       "2022-03-03  538082.19\n",
       "2022-03-04  536282.05"
      ]
     },
     "execution_count": 28,
     "metadata": {},
     "output_type": "execute_result"
    }
   ],
   "source": [
    "aum_frame"
   ]
  },
  {
   "cell_type": "markdown",
   "metadata": {},
   "source": [
    "## aum_delta"
   ]
  },
  {
   "cell_type": "code",
   "execution_count": 68,
   "metadata": {},
   "outputs": [],
   "source": [
    "# takes aum_frame\n",
    "# returns one day price change in aum\n",
    "\n",
    "def aum_delta(aum_frame):\n",
    "    aum_lst = aum_frame['AUM'].tolist()\n",
    "    periods = len(aum_lst)\n",
    "    current_pd = int(periods - 1)\n",
    "    last_pd = int(periods - 2)\n",
    "    delta = round((aum_lst[current_pd] - aum_lst[last_pd]),2)\n",
    "    return delta"
   ]
  },
  {
   "cell_type": "markdown",
   "metadata": {},
   "source": [
    "## aum_delta_per"
   ]
  },
  {
   "cell_type": "code",
   "execution_count": 86,
   "metadata": {},
   "outputs": [],
   "source": [
    "# takes aum_frame\n",
    "# returns one day percent change in aum\n",
    "def aum_delta_per(aum_frame):\n",
    "    aum_lst = aum_frame['AUM'].tolist()\n",
    "    periods = len(aum_lst)\n",
    "    current_pd = int(periods - 1)\n",
    "    last_pd = int(periods - 2)\n",
    "    delta_per = (aum_lst[current_pd]/aum_lst[last_pd])-1\n",
    "    return delta_per"
   ]
  },
  {
   "cell_type": "code",
   "execution_count": 87,
   "metadata": {},
   "outputs": [],
   "source": [
    "per_change = aum_delta_per(aum_frame)"
   ]
  },
  {
   "cell_type": "code",
   "execution_count": 88,
   "metadata": {},
   "outputs": [],
   "source": [
    "per_change = round(per_change*100,2)"
   ]
  },
  {
   "cell_type": "code",
   "execution_count": 89,
   "metadata": {},
   "outputs": [
    {
     "name": "stdout",
     "output_type": "stream",
     "text": [
      "-0.33%\n"
     ]
    }
   ],
   "source": [
    "print(str(per_change)+'%')"
   ]
  }
 ],
 "metadata": {
  "kernelspec": {
   "display_name": "Python 3",
   "language": "python",
   "name": "python3"
  },
  "language_info": {
   "codemirror_mode": {
    "name": "ipython",
    "version": 3
   },
   "file_extension": ".py",
   "mimetype": "text/x-python",
   "name": "python",
   "nbconvert_exporter": "python",
   "pygments_lexer": "ipython3",
   "version": "3.7.4"
  }
 },
 "nbformat": 4,
 "nbformat_minor": 2
}
